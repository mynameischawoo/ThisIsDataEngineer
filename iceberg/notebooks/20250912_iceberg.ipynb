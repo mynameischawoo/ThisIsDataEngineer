{
 "cells": [
  {
   "cell_type": "code",
   "execution_count": 9,
   "id": "d1890d0f-e301-40f8-a4f4-4890558494ad",
   "metadata": {},
   "outputs": [
    {
     "name": "stdout",
     "output_type": "stream",
     "text": [
      "+---------------+\n",
      "|        catalog|\n",
      "+---------------+\n",
      "|           demo|\n",
      "|iceberg_catalog|\n",
      "|  spark_catalog|\n",
      "+---------------+\n",
      "\n"
     ]
    }
   ],
   "source": [
    "from pyspark.sql import SparkSession\n",
    "\n",
    "spark = SparkSession.builder \\\n",
    "        .appName(\"IcebergSparkWithMinIo\") \\\n",
    "        .config(\"spark.sql.catalog.iceberg_catalog\", \"org.apache.iceberg.spark.SparkCatalog\") \\\n",
    "        .config(\"spark.sql.catalog.iceberg_catalog.type\", \"rest\") \\\n",
    "        .config(\"spark.sql.catalog.iceberg_catalog.uri\", \"http://iceberg-rest:8181\") \\\n",
    "        .config(\"spark.sql.catalog.iceberg_catalog.warehouse\", \"s3://warehouse/\") \\\n",
    "        .config(\"spark.sql.catalog.iceberg_catalog.io-impl\", \"org.apache.iceberg.aws.s3.S3FileIO\") \\\n",
    "        .config(\"spark.sql.catalog.iceberg_catalog.s3.endpoint\", \"http://minio:9000\") \\\n",
    "        .config(\"spark.sql.catalog.iceberg_catalog.s3.access-key-id\", \"admin\") \\\n",
    "        .config(\"spark.sql.catalog.iceberg_catalog.s3.secret-access-key\", \"password\") \\\n",
    "        .config(\"spark.sql.catalog.iceberg_catalog.s3.path-style-access\", \"true\") \\\n",
    "        .getOrCreate()\n",
    "\n",
    "spark.sql(\"SHOW CATALOGS\").show()"
   ]
  },
  {
   "cell_type": "code",
   "execution_count": 13,
   "id": "4c34d1e7-129c-4ee4-862a-6d92a82e0afb",
   "metadata": {},
   "outputs": [
    {
     "name": "stdout",
     "output_type": "stream",
     "text": [
      "+---------+\n",
      "|namespace|\n",
      "+---------+\n",
      "|  default|\n",
      "+---------+\n",
      "\n"
     ]
    }
   ],
   "source": [
    "spark.sql(\"SHOW DATABASES IN iceberg_catalog\").show()"
   ]
  },
  {
   "cell_type": "code",
   "execution_count": 12,
   "id": "18f553fd-09e6-49d9-bb20-95aac4852428",
   "metadata": {},
   "outputs": [
    {
     "data": {
      "text/plain": [
       "DataFrame[]"
      ]
     },
     "execution_count": 12,
     "metadata": {},
     "output_type": "execute_result"
    }
   ],
   "source": [
    "spark.sql(\"CREATE DATABASE iceberg_catalog.default\")"
   ]
  },
  {
   "cell_type": "code",
   "execution_count": 14,
   "id": "f71bc552-6792-48ac-9f6e-c2a8294447b7",
   "metadata": {},
   "outputs": [
    {
     "data": {
      "text/plain": [
       "DataFrame[]"
      ]
     },
     "execution_count": 14,
     "metadata": {},
     "output_type": "execute_result"
    }
   ],
   "source": [
    "spark.sql(\"\"\"\n",
    "CREATE TABLE iceberg_catalog.default.my_table (\n",
    "    id BIGINT,\n",
    "    name STRING\n",
    ") USING iceberg\n",
    "\"\"\")"
   ]
  },
  {
   "cell_type": "code",
   "execution_count": 17,
   "id": "a5ef56b0-1a0a-40be-bb76-63a64f134149",
   "metadata": {},
   "outputs": [
    {
     "name": "stdout",
     "output_type": "stream",
     "text": [
      "+---+----+\n",
      "| id|name|\n",
      "+---+----+\n",
      "+---+----+\n",
      "\n"
     ]
    }
   ],
   "source": [
    "spark.sql(\"\"\"\n",
    "SELECT * FROM iceberg_catalog.default.my_table\n",
    "\"\"\").show()"
   ]
  },
  {
   "cell_type": "code",
   "execution_count": null,
   "id": "fd38e3ec-6708-4576-80d9-a2b2765c9162",
   "metadata": {},
   "outputs": [],
   "source": []
  }
 ],
 "metadata": {
  "kernelspec": {
   "display_name": "Python 3 (ipykernel)",
   "language": "python",
   "name": "python3"
  },
  "language_info": {
   "codemirror_mode": {
    "name": "ipython",
    "version": 3
   },
   "file_extension": ".py",
   "mimetype": "text/x-python",
   "name": "python",
   "nbconvert_exporter": "python",
   "pygments_lexer": "ipython3",
   "version": "3.10.16"
  }
 },
 "nbformat": 4,
 "nbformat_minor": 5
}
